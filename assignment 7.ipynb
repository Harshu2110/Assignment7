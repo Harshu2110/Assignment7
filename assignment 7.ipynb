{
 "cells": [
  {
   "cell_type": "code",
   "execution_count": null,
   "id": "3e385ebb",
   "metadata": {},
   "outputs": [],
   "source": [
    "1. What is the name of the feature responsible for generating Regex objects?"
   ]
  },
  {
   "cell_type": "code",
   "execution_count": null,
   "id": "46923a20",
   "metadata": {},
   "outputs": [],
   "source": [
    "Ans: In Python, the re module is responsible for generating Regex objects."
   ]
  },
  {
   "cell_type": "code",
   "execution_count": null,
   "id": "9a354c49",
   "metadata": {},
   "outputs": [],
   "source": [
    "2. Why do raw strings often appear in Regex objects?"
   ]
  },
  {
   "cell_type": "code",
   "execution_count": null,
   "id": "f0dc1475",
   "metadata": {},
   "outputs": [],
   "source": [
    "Ans: Raw strings are used so that backslashes do not have to be escaped."
   ]
  },
  {
   "cell_type": "code",
   "execution_count": null,
   "id": "ed149ba7",
   "metadata": {},
   "outputs": [],
   "source": [
    "3. What is the return value of the search() method?"
   ]
  },
  {
   "cell_type": "code",
   "execution_count": null,
   "id": "8f228587",
   "metadata": {},
   "outputs": [],
   "source": [
    "Ans: The search() method in Python re module returns a Match object if a match is found, and None if no match is found."
   ]
  },
  {
   "cell_type": "code",
   "execution_count": null,
   "id": "b173188d",
   "metadata": {},
   "outputs": [],
   "source": [
    "4. From a Match item, how do you get the actual strings that match the pattern?"
   ]
  },
  {
   "cell_type": "code",
   "execution_count": null,
   "id": "b22b49c8",
   "metadata": {},
   "outputs": [],
   "source": [
    "Ans: Web can use group method to get the actual string that match then pattren"
   ]
  },
  {
   "cell_type": "code",
   "execution_count": null,
   "id": "fa740cdd",
   "metadata": {},
   "outputs": [],
   "source": [
    "5. In the regex which created from the r'(\\d\\d\\d)-(\\d\\d\\d-\\d\\d\\d\\d)', what does group zero cover?\n",
    "Group 2? Group 1?"
   ]
  },
  {
   "cell_type": "code",
   "execution_count": null,
   "id": "8f004355",
   "metadata": {},
   "outputs": [],
   "source": [
    "Ans: In the regular expression r'(\\d\\d\\d)-(\\d\\d\\d-\\d\\d\\d\\d)', group zero covers the entire match, while group 1 covers the three-digit number and group 2 covers the seven-digit phone number."
   ]
  },
  {
   "cell_type": "code",
   "execution_count": null,
   "id": "60beb516",
   "metadata": {},
   "outputs": [],
   "source": [
    "6. In standard expression syntax, parentheses and intervals have distinct meanings. How can you tell\n",
    "a regex that you want it to fit real parentheses and periods?"
   ]
  },
  {
   "cell_type": "code",
   "execution_count": null,
   "id": "8c23c43c",
   "metadata": {},
   "outputs": [],
   "source": [
    "Ans: To match literal parentheses or periods, we can escape them with a backslash (\\)."
   ]
  },
  {
   "cell_type": "code",
   "execution_count": 15,
   "id": "cabd3bc6",
   "metadata": {},
   "outputs": [
    {
     "name": "stdout",
     "output_type": "stream",
     "text": [
      "['(standard)', '.']\n"
     ]
    }
   ],
   "source": [
    "import re\n",
    "text = \"This is (standard) expression syntax, parentheses and intervals have distinct meanings.\"\n",
    "pattern = r\"\\(.+\\)|\\.\"\n",
    "\n",
    "matches = re.findall(pattern, text)\n",
    "\n",
    "print(matches)\n"
   ]
  },
  {
   "cell_type": "code",
   "execution_count": null,
   "id": "87873070",
   "metadata": {},
   "outputs": [],
   "source": [
    "7. The findall() method returns a string list or a list of string tuples. What causes it to return one of\n",
    "the two options?"
   ]
  },
  {
   "cell_type": "code",
   "execution_count": null,
   "id": "b0210e01",
   "metadata": {},
   "outputs": [],
   "source": [
    "Ans: If the regex has no groups, a list of strings is returned. If the regex has groups, a list of tuples of strings is returned."
   ]
  },
  {
   "cell_type": "code",
   "execution_count": null,
   "id": "3e13dc30",
   "metadata": {},
   "outputs": [],
   "source": [
    "8. In standard expressions, what does the | character mean?"
   ]
  },
  {
   "cell_type": "code",
   "execution_count": null,
   "id": "62872a19",
   "metadata": {},
   "outputs": [],
   "source": [
    "Ans: In standard regular expression syntax, the | character is used to represent alternation, which means \"or\". It allows the regular expression to match any one of several alternatives."
   ]
  },
  {
   "cell_type": "code",
   "execution_count": null,
   "id": "5dbfda87",
   "metadata": {},
   "outputs": [],
   "source": [
    "9. In regular expressions, what does the character stand for?"
   ]
  },
  {
   "cell_type": "code",
   "execution_count": null,
   "id": "5aed2b59",
   "metadata": {},
   "outputs": [],
   "source": []
  },
  {
   "cell_type": "code",
   "execution_count": null,
   "id": "c48e4dd7",
   "metadata": {},
   "outputs": [],
   "source": [
    "10.In regular expressions, what is the difference between the + and * characters?"
   ]
  },
  {
   "cell_type": "code",
   "execution_count": null,
   "id": "a1dcf731",
   "metadata": {},
   "outputs": [],
   "source": [
    "Ans: * means zero-or-more, and + means one-or-more. So the difference is that the empty string would match the second expression but not the first."
   ]
  },
  {
   "cell_type": "code",
   "execution_count": null,
   "id": "ac2abe6d",
   "metadata": {},
   "outputs": [],
   "source": [
    "11. What is the difference between {4} and {4,5} in regular expression?"
   ]
  },
  {
   "cell_type": "code",
   "execution_count": 9,
   "id": "9e35cbc5",
   "metadata": {},
   "outputs": [
    {
     "name": "stdout",
     "output_type": "stream",
     "text": [
      "['over', 'lazy']\n",
      "['quick', 'brown', 'jumps', 'over', 'lazy']\n"
     ]
    }
   ],
   "source": [
    "text = \"The quick brown fox jumps over the lazy dog.\"\n",
    "pattern1 = r\"\\b\\w{4}\\b\"\n",
    "pattern2 = r\"\\b\\w{4,5}\\b\"\n",
    "\n",
    "matches1 = re.findall(pattern1, text)\n",
    "matches2 = re.findall(pattern2, text)\n",
    "\n",
    "print(matches1)\n",
    "print(matches2)\n"
   ]
  },
  {
   "cell_type": "code",
   "execution_count": null,
   "id": "f28f11d6",
   "metadata": {},
   "outputs": [],
   "source": [
    "In regular expressions, {4} and {m4,5} are quantifiers that specify the exact number or range of occurrences of the preceding character or group. The main difference between them is that {4} matches exactly n occurrences, while {4,5} matches between m and n occurrences."
   ]
  },
  {
   "cell_type": "code",
   "execution_count": null,
   "id": "1c82ff13",
   "metadata": {},
   "outputs": [],
   "source": [
    "12. What do you mean by the \\d, \\w, and \\s shorthand character classes signify in regular\n",
    "expressions?"
   ]
  },
  {
   "cell_type": "code",
   "execution_count": 2,
   "id": "7519ace0",
   "metadata": {},
   "outputs": [
    {
     "name": "stdout",
     "output_type": "stream",
     "text": [
      "['123-456-7890']\n",
      "['The', 'phone', 'number', 'is', '123', '456', '7890']\n",
      "[' ', ' ', ' ', ' ']\n"
     ]
    }
   ],
   "source": [
    "text = \"The phone number is 123-456-7890.\"\n",
    "pattern1 = r\"\\d{3}-\\d{3}-\\d{4}\"\n",
    "pattern2 = r\"\\w+\"\n",
    "pattern3 = r\"\\s+\"\n",
    "\n",
    "matches1 = re.findall(pattern1, text)\n",
    "matches2 = re.findall(pattern2, text)\n",
    "matches3 = re.findall(pattern3, text)\n",
    "\n",
    "print(matches1)\n",
    "print(matches2)\n",
    "print(matches3)\n"
   ]
  },
  {
   "cell_type": "code",
   "execution_count": null,
   "id": "716eb783",
   "metadata": {},
   "outputs": [],
   "source": [
    "\\d represents any digit character (0-9).\n",
    "\n",
    "\\w represents any word character, which includes letters uppercase and lowercase, digits, and underscores.\n",
    "\n",
    "\\s represents any whitespace character, which includes spaces, tabs, and newline characters."
   ]
  },
  {
   "cell_type": "code",
   "execution_count": null,
   "id": "51954ace",
   "metadata": {},
   "outputs": [],
   "source": [
    "13. What do means by \\D, \\W, and \\S shorthand character classes signify in regular expressions?"
   ]
  },
  {
   "cell_type": "code",
   "execution_count": 3,
   "id": "d0821047",
   "metadata": {},
   "outputs": [
    {
     "name": "stdout",
     "output_type": "stream",
     "text": [
      "[]\n",
      "[' ', ' ', ' ', ' ', '-', '-', '.']\n",
      "['The', 'phone', 'number', 'is', '123-456-7890.']\n"
     ]
    }
   ],
   "source": [
    "text = \"The phone number is 123-456-7890.\"\n",
    "pattern1 = r\"\\D{3}-\\D{3}-\\D{4}\"\n",
    "pattern2 = r\"\\W+\"\n",
    "pattern3 = r\"\\S+\"\n",
    "\n",
    "matches1 = re.findall(pattern1, text)\n",
    "matches2 = re.findall(pattern2, text)\n",
    "matches3 = re.findall(pattern3, text)\n",
    "\n",
    "print(matches1)\n",
    "print(matches2)\n",
    "print(matches3)\n"
   ]
  },
  {
   "cell_type": "code",
   "execution_count": null,
   "id": "6382ea84",
   "metadata": {},
   "outputs": [],
   "source": [
    "\\D: This matches any character that is not a digit.\n",
    "\n",
    "\\W: This matches any character that is not a word character.\n",
    "\n",
    "\\S: This matches any character that is not a whitespace character "
   ]
  },
  {
   "cell_type": "code",
   "execution_count": null,
   "id": "366f7bac",
   "metadata": {},
   "outputs": [],
   "source": [
    "14. What is the difference between .*? and .*?"
   ]
  },
  {
   "cell_type": "code",
   "execution_count": null,
   "id": "acb8d22a",
   "metadata": {},
   "outputs": [],
   "source": [
    "Ans : .*? is a non-greedy or lazy quantifier that matches the shortest possible sequence of characters that satisfy the pattern while .* is a greedy quantifier that matches the longest possible sequence of characters that satisfy the pattern."
   ]
  },
  {
   "cell_type": "code",
   "execution_count": null,
   "id": "235777d0",
   "metadata": {},
   "outputs": [],
   "source": [
    "15. What is the syntax for matching both numbers and lowercase letters with a character class?"
   ]
  },
  {
   "cell_type": "code",
   "execution_count": null,
   "id": "be92fb42",
   "metadata": {},
   "outputs": [],
   "source": [
    "Ans: We can use the shorthand character classes \\d and \\w for matching both numbers and lowercase letters."
   ]
  },
  {
   "cell_type": "code",
   "execution_count": null,
   "id": "c50cc72d",
   "metadata": {},
   "outputs": [],
   "source": [
    "16. What is the procedure for making a normal expression in regax case insensitive?"
   ]
  },
  {
   "cell_type": "code",
   "execution_count": 14,
   "id": "54cc3590",
   "metadata": {},
   "outputs": [
    {
     "name": "stdout",
     "output_type": "stream",
     "text": [
      "Match found: Regax\n"
     ]
    }
   ],
   "source": [
    "text = \"This is the procedure for making a noramal expression in Regax case insensitive\"\n",
    "\n",
    "pattern = re.compile(r\"regax\", re.IGNORECASE)\n",
    "match = pattern.search(text)\n",
    "\n",
    "if match:\n",
    "    print(\"Match found:\", match.group())\n",
    "else:\n",
    "    print(\"No match found.\")\n"
   ]
  },
  {
   "cell_type": "code",
   "execution_count": null,
   "id": "26a874b7",
   "metadata": {},
   "outputs": [],
   "source": [
    "To make a regular expression case-insensitive, we can use the re.IGNORECASE with the re.compile() function"
   ]
  },
  {
   "cell_type": "code",
   "execution_count": null,
   "id": "ca33472b",
   "metadata": {},
   "outputs": [],
   "source": [
    "17. What does the . character normally match? What does it match if re.DOTALL is passed as 2nd\n",
    "argument in re.compile()?"
   ]
  },
  {
   "cell_type": "code",
   "execution_count": 18,
   "id": "923b5ddb",
   "metadata": {},
   "outputs": [
    {
     "name": "stdout",
     "output_type": "stream",
     "text": [
      "Without DOTALL: This is some \n",
      "With DOTALL: This is some \n",
      " example text \n",
      " with multiple lines.\n"
     ]
    }
   ],
   "source": [
    "text = \"This is some \\n example text \\n with multiple lines.\"\n",
    "\n",
    "pattern = re.compile(r\".+\")\n",
    "match = pattern.search(text)\n",
    "print(\"Without DOTALL:\", match.group())\n",
    "\n",
    "pattern = re.compile(r\".+\", re.DOTALL)\n",
    "match = pattern.search(text)\n",
    "print(\"With DOTALL:\", match.group())\n"
   ]
  },
  {
   "cell_type": "code",
   "execution_count": null,
   "id": "ade122fd",
   "metadata": {},
   "outputs": [],
   "source": [
    "The . character matches any single character except for a newline character (\\n) while re.DOTALL is passed as the second argument to the re.compile() function then the . character will match any character, including newline characters."
   ]
  },
  {
   "cell_type": "code",
   "execution_count": null,
   "id": "4840ee49",
   "metadata": {},
   "outputs": [],
   "source": [
    "18. If numReg = re.compile(r'\\d+'), what will numRegex.sub('X', '11 drummers, 10 pipers, five rings, 4\n",
    "hen') return?"
   ]
  },
  {
   "cell_type": "code",
   "execution_count": 19,
   "id": "2fb2a76a",
   "metadata": {},
   "outputs": [
    {
     "name": "stdout",
     "output_type": "stream",
     "text": [
      "X drummers, X pipers, five rings, X hen\n"
     ]
    }
   ],
   "source": [
    "numReg = re.compile(r'\\d+')\n",
    "text = '11 drummers, 10 pipers, five rings, 4 hen'\n",
    "output = numReg.sub('X', text)\n",
    "\n",
    "print(output)\n"
   ]
  },
  {
   "cell_type": "code",
   "execution_count": null,
   "id": "9357df66",
   "metadata": {},
   "outputs": [],
   "source": [
    "19. What does passing re.VERBOSE as the 2nd argument to re.compile() allow to do?"
   ]
  },
  {
   "cell_type": "code",
   "execution_count": null,
   "id": "2993e99a",
   "metadata": {},
   "outputs": [],
   "source": []
  },
  {
   "cell_type": "code",
   "execution_count": null,
   "id": "f1af4916",
   "metadata": {},
   "outputs": [],
   "source": [
    "20. How would you write a regex that match a number with comma for every three digits? It must\n",
    "match the given following:\n",
    "'42'\n",
    "'1,234'\n",
    "'6,368,745'\n",
    "\n",
    "but not the following:\n",
    "'12,34,567' (which has only two digits between the commas)\n",
    "'1234' (which lacks commas)"
   ]
  },
  {
   "cell_type": "code",
   "execution_count": 58,
   "id": "e3c94576",
   "metadata": {},
   "outputs": [
    {
     "name": "stdout",
     "output_type": "stream",
     "text": [
      "42 - MATCH\n",
      "1,234 - MATCH\n",
      "6,368,745 - MATCH\n",
      "12,34,567 - NO MATCH\n",
      "1234 - NO MATCH\n"
     ]
    }
   ],
   "source": [
    "pattern = r'\\d{1,3}(,\\d{3})*$'\n",
    "\n",
    "regex = re.compile(pattern)\n",
    "\n",
    "strings = [\n",
    "    '42',\n",
    "    '1,234',\n",
    "    '6,368,745',\n",
    "    '12,34,567',\n",
    "    '1234'\n",
    "]\n",
    "\n",
    "for string in strings:\n",
    "    match = regex.match(string)\n",
    "    if match:\n",
    "        print(f\"{string} - MATCH\")\n",
    "    else:\n",
    "        print(f\"{string} - NO MATCH\")"
   ]
  },
  {
   "cell_type": "code",
   "execution_count": null,
   "id": "ff14d0c3",
   "metadata": {},
   "outputs": [],
   "source": [
    "21. How would you write a regex that matches the full name of someone whose last name is\n",
    "Watanabe? You can assume that the first name that comes before it will always be one word that\n",
    "begins with a capital letter. The regex must match the following:\n",
    "'Haruto Watanabe'\n",
    "'Alice Watanabe'\n",
    "'RoboCop Watanabe'\n",
    "but not the following:\n",
    "'haruto Watanabe' (where the first name is not capitalized)\n",
    "'Mr. Watanabe' (where the preceding word has a nonletter character)\n",
    "'Watanabe' (which has no first name)\n",
    "'Haruto watanabe' (where Watanabe is not capitalized)"
   ]
  },
  {
   "cell_type": "code",
   "execution_count": 40,
   "id": "9c802542",
   "metadata": {},
   "outputs": [
    {
     "name": "stdout",
     "output_type": "stream",
     "text": [
      "haruto Watanabe: does not match\n",
      "Alice Watanabe: does not match\n",
      "Haruto Watanabe: does not match\n",
      "Haruto watanabe: does not match\n"
     ]
    }
   ],
   "source": [
    "def printMatch(name):\n",
    "    pat = re.compile(r'\\[A-Z][a-z]*\\sWatanabe')\n",
    "    if pat.search(name):\n",
    "        print (''+name+' matches')\n",
    "    else:\n",
    "        print (''+name+' does not match')\n",
    "\n",
    "printMatch('haruto Watanabe:')\n",
    "printMatch('Alice Watanabe:')\n",
    "printMatch('Haruto Watanabe:')\n",
    "printMatch('Haruto watanabe:')"
   ]
  },
  {
   "cell_type": "code",
   "execution_count": null,
   "id": "8eac13c5",
   "metadata": {},
   "outputs": [],
   "source": [
    "22. How would you write a regex that matches a sentence where the first word is either Alice, Bob,\n",
    "or Carol; the second word is either eats, pets, or throws; the third word is apples, cats, or baseballs;\n",
    "and the sentence ends with a period? This regex should be case-insensitive. It must match the\n",
    "following:\n",
    "'Alice eats apples.'\n",
    "'Bob pets cats.'\n",
    "'Carol throws baseballs.'\n",
    "'Alice throws Apples.'\n",
    "'BOB EATS CATS.'\n",
    "but not the following:\n",
    "'RoboCop eats apples.'\n",
    "'ALICE THROWS FOOTBALLS.'\n",
    "'Carol eats 7 cats.'"
   ]
  },
  {
   "cell_type": "code",
   "execution_count": 52,
   "id": "12c45bc5",
   "metadata": {},
   "outputs": [
    {
     "name": "stdout",
     "output_type": "stream",
     "text": [
      "Alice eats apples. - MATCH\n",
      "Bob pets cats. - MATCH\n",
      "Carol throws baseballs. - MATCH\n",
      "Alice throws Apples. - MATCH\n",
      "BOB EATS CATS. - MATCH\n",
      "RoboCop eats apples. - NO MATCH\n",
      "ALICE THROWS FOOTBALLS. - NO MATCH\n",
      "Carol eats 7 cats. - NO MATCH\n"
     ]
    }
   ],
   "source": [
    "pattern = r'^(Alice|Bob|Carol)\\s+(eats|pets|throws)\\s+(apples|cats|baseballs)\\.$'\n",
    "regex = re.compile(pattern, re.IGNORECASE)\n",
    "\n",
    "strings = [\n",
    "    'Alice eats apples.',\n",
    "    'Bob pets cats.',\n",
    "    'Carol throws baseballs.',\n",
    "    'Alice throws Apples.',\n",
    "    'BOB EATS CATS.',\n",
    "    'RoboCop eats apples.',\n",
    "    'ALICE THROWS FOOTBALLS.',\n",
    "    'Carol eats 7 cats.'\n",
    "]\n",
    "\n",
    "for string in strings:\n",
    "    match = regex.match(string)\n",
    "    if match:\n",
    "        print(f\"{string} - MATCH\")\n",
    "    else:\n",
    "        print(f\"{string} - NO MATCH\")\n"
   ]
  },
  {
   "cell_type": "code",
   "execution_count": null,
   "id": "d24fd15d",
   "metadata": {},
   "outputs": [],
   "source": []
  },
  {
   "cell_type": "code",
   "execution_count": null,
   "id": "98885312",
   "metadata": {},
   "outputs": [],
   "source": []
  }
 ],
 "metadata": {
  "kernelspec": {
   "display_name": "Python 3 (ipykernel)",
   "language": "python",
   "name": "python3"
  },
  "language_info": {
   "codemirror_mode": {
    "name": "ipython",
    "version": 3
   },
   "file_extension": ".py",
   "mimetype": "text/x-python",
   "name": "python",
   "nbconvert_exporter": "python",
   "pygments_lexer": "ipython3",
   "version": "3.9.7"
  }
 },
 "nbformat": 4,
 "nbformat_minor": 5
}
